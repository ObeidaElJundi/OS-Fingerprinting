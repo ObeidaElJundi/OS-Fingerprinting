{
 "cells": [
  {
   "cell_type": "markdown",
   "metadata": {},
   "source": [
    "### reading pcap files and prepare dataset"
   ]
  },
  {
   "cell_type": "code",
   "execution_count": 133,
   "metadata": {},
   "outputs": [],
   "source": [
    "from scapy.all import *\n",
    "import numpy as np\n",
    "import pandas as pd\n",
    "import os\n",
    "os.environ['CUDA_VISIBLE_DEVICES'] = '-1' # to ignore GPU\n",
    "import keras\n",
    "from keras.models import Sequential\n",
    "from keras.layers import Dense, LSTM, LeakyReLU, Conv1D, Conv2D, BatchNormalization, Dropout, Reshape, Permute, Flatten\n",
    "from keras.utils import to_categorical\n",
    "from keras.metrics import categorical_accuracy\n",
    "from keras.optimizers import RMSprop"
   ]
  },
  {
   "cell_type": "code",
   "execution_count": 2,
   "metadata": {},
   "outputs": [
    {
     "name": "stdout",
     "output_type": "stream",
     "text": [
      "<packets-kali-train.pcap: TCP:21522 UDP:68 ICMP:0 Other:4>\n",
      "<packets-kali-test.pcap: TCP:3645 UDP:97 ICMP:1 Other:4>\n",
      "<packets-win10-train.pcap: TCP:27411 UDP:240 ICMP:1 Other:0>\n",
      "<packets-win10-test.pcap: TCP:3828 UDP:126 ICMP:0 Other:0>\n",
      "<packets-Android-train.pcap: TCP:3159 UDP:5917 ICMP:12 Other:0>\n",
      "<packets-Android-test.pcap: TCP:2109 UDP:37 ICMP:0 Other:0>\n"
     ]
    }
   ],
   "source": [
    "pkts_kali_train = rdpcap('data/OS-Fingerprinting/packets-kali-train.pcap')\n",
    "print(pkts_kali_train)\n",
    "pkts_kali_test = rdpcap('data/OS-Fingerprinting/packets-kali-test.pcap')\n",
    "print(pkts_kali_test)\n",
    "\n",
    "pkts_win10_train = rdpcap('data/OS-Fingerprinting/packets-win10-train.pcap')\n",
    "print(pkts_win10_train)\n",
    "pkts_win10_test = rdpcap('data/OS-Fingerprinting/packets-win10-test.pcap')\n",
    "print(pkts_win10_test)\n",
    "\n",
    "pkts_android_train = rdpcap('data/OS-Fingerprinting/packets-Android-train.pcap')\n",
    "print(pkts_android_train)\n",
    "pkts_android_test = rdpcap('data/OS-Fingerprinting/packets-Android-test.pcap')\n",
    "print(pkts_android_test)"
   ]
  },
  {
   "cell_type": "code",
   "execution_count": 3,
   "metadata": {},
   "outputs": [],
   "source": [
    "def preprocess_packets(pkts, label):\n",
    "    ihl, tos, length, flags_ip, ttl = [], [], [], [], []\n",
    "    ack, dataofs, reserved, flags_tcp, window, urgptr = [], [], [], [], [], []\n",
    "    OS = []\n",
    "\n",
    "    for pkt in pkts: # loop through all captured packets\n",
    "        if pkt.haslayer(TCP): # if it is a TCP packet\n",
    "            # get IP header\n",
    "            ihl.append(pkt[IP].ihl)\n",
    "            tos.append(pkt[IP].tos)\n",
    "            length.append(pkt[IP].len)\n",
    "            flags_ip.append(str(pkt[IP].flags))\n",
    "            ttl.append(pkt[IP].ttl)\n",
    "            # get TCP header\n",
    "            ack.append(pkt[TCP].ack)\n",
    "            dataofs.append(pkt[TCP].dataofs)\n",
    "            reserved.append(pkt[TCP].reserved)\n",
    "            flags_tcp.append(str(pkt[TCP].flags))\n",
    "            window.append(pkt[TCP].window)\n",
    "            urgptr.append(pkt[TCP].urgptr)\n",
    "            OS.append(label)\n",
    "\n",
    "    data = {'ihl':ihl, 'tos':tos, 'length':length, 'flags_ip':flags_ip, 'ttl':ttl, 'ack':ack, 'dataofs':dataofs, 'reserved':reserved,\n",
    "            'flags_tcp':flags_tcp, 'window':window, 'urgptr':urgptr, 'OS':OS}\n",
    "    cols = ['ihl', 'tos', 'length', 'flags_ip', 'ttl', 'ack', 'dataofs', 'reserved', 'flags_tcp', 'window', 'urgptr', 'OS']\n",
    "    df = pd.DataFrame(data=data, columns=cols)\n",
    "    return df"
   ]
  },
  {
   "cell_type": "code",
   "execution_count": 4,
   "metadata": {},
   "outputs": [],
   "source": [
    "OSes = {'win10':0, 'Kali':1, 'Android':2, 'MAC':3, 'IOS':4}\n",
    "\n",
    "df_win10_train = preprocess_packets(pkts_win10_train, OSes['win10'])\n",
    "df_win10_test = preprocess_packets(pkts_win10_test, OSes['win10'])\n",
    "df_kali_train = preprocess_packets(pkts_kali_train, OSes['Kali'])\n",
    "df_kali_test = preprocess_packets(pkts_kali_test, OSes['Kali'])\n",
    "df_android_train = preprocess_packets(pkts_android_train, OSes['Android'])\n",
    "df_android_test = preprocess_packets(pkts_android_test, OSes['Android'])\n",
    "# other OSes\n",
    "\n",
    "dfs_train = [df_win10_train, df_kali_train, df_android_train]\n",
    "dfs_test = [df_win10_test, df_kali_test, df_android_test]"
   ]
  },
  {
   "cell_type": "code",
   "execution_count": 9,
   "metadata": {},
   "outputs": [],
   "source": [
    "df_train = pd.concat(dfs_train, ignore_index=True)\n",
    "df_test = pd.concat(dfs_test, ignore_index=True)"
   ]
  },
  {
   "cell_type": "code",
   "execution_count": 10,
   "metadata": {},
   "outputs": [
    {
     "data": {
      "text/html": [
       "<div>\n",
       "<style scoped>\n",
       "    .dataframe tbody tr th:only-of-type {\n",
       "        vertical-align: middle;\n",
       "    }\n",
       "\n",
       "    .dataframe tbody tr th {\n",
       "        vertical-align: top;\n",
       "    }\n",
       "\n",
       "    .dataframe thead th {\n",
       "        text-align: right;\n",
       "    }\n",
       "</style>\n",
       "<table border=\"1\" class=\"dataframe\">\n",
       "  <thead>\n",
       "    <tr style=\"text-align: right;\">\n",
       "      <th></th>\n",
       "      <th>ihl</th>\n",
       "      <th>tos</th>\n",
       "      <th>length</th>\n",
       "      <th>flags_ip</th>\n",
       "      <th>ttl</th>\n",
       "      <th>ack</th>\n",
       "      <th>dataofs</th>\n",
       "      <th>reserved</th>\n",
       "      <th>flags_tcp</th>\n",
       "      <th>window</th>\n",
       "      <th>urgptr</th>\n",
       "      <th>OS</th>\n",
       "    </tr>\n",
       "  </thead>\n",
       "  <tbody>\n",
       "    <tr>\n",
       "      <th>0</th>\n",
       "      <td>5</td>\n",
       "      <td>0</td>\n",
       "      <td>41</td>\n",
       "      <td>DF</td>\n",
       "      <td>128</td>\n",
       "      <td>1746802052</td>\n",
       "      <td>5</td>\n",
       "      <td>0</td>\n",
       "      <td>A</td>\n",
       "      <td>253</td>\n",
       "      <td>0</td>\n",
       "      <td>0</td>\n",
       "    </tr>\n",
       "    <tr>\n",
       "      <th>1</th>\n",
       "      <td>5</td>\n",
       "      <td>0</td>\n",
       "      <td>41</td>\n",
       "      <td>DF</td>\n",
       "      <td>128</td>\n",
       "      <td>2908417484</td>\n",
       "      <td>5</td>\n",
       "      <td>0</td>\n",
       "      <td>A</td>\n",
       "      <td>259</td>\n",
       "      <td>0</td>\n",
       "      <td>0</td>\n",
       "    </tr>\n",
       "    <tr>\n",
       "      <th>2</th>\n",
       "      <td>5</td>\n",
       "      <td>0</td>\n",
       "      <td>52</td>\n",
       "      <td>DF</td>\n",
       "      <td>128</td>\n",
       "      <td>0</td>\n",
       "      <td>8</td>\n",
       "      <td>0</td>\n",
       "      <td>S</td>\n",
       "      <td>64240</td>\n",
       "      <td>0</td>\n",
       "      <td>0</td>\n",
       "    </tr>\n",
       "    <tr>\n",
       "      <th>3</th>\n",
       "      <td>5</td>\n",
       "      <td>0</td>\n",
       "      <td>40</td>\n",
       "      <td>DF</td>\n",
       "      <td>128</td>\n",
       "      <td>4200334307</td>\n",
       "      <td>5</td>\n",
       "      <td>0</td>\n",
       "      <td>A</td>\n",
       "      <td>260</td>\n",
       "      <td>0</td>\n",
       "      <td>0</td>\n",
       "    </tr>\n",
       "    <tr>\n",
       "      <th>4</th>\n",
       "      <td>5</td>\n",
       "      <td>0</td>\n",
       "      <td>246</td>\n",
       "      <td>DF</td>\n",
       "      <td>128</td>\n",
       "      <td>4200334307</td>\n",
       "      <td>5</td>\n",
       "      <td>0</td>\n",
       "      <td>PA</td>\n",
       "      <td>260</td>\n",
       "      <td>0</td>\n",
       "      <td>0</td>\n",
       "    </tr>\n",
       "  </tbody>\n",
       "</table>\n",
       "</div>"
      ],
      "text/plain": [
       "   ihl  tos  length flags_ip  ttl         ack  dataofs  reserved flags_tcp  \\\n",
       "0    5    0      41       DF  128  1746802052        5         0         A   \n",
       "1    5    0      41       DF  128  2908417484        5         0         A   \n",
       "2    5    0      52       DF  128           0        8         0         S   \n",
       "3    5    0      40       DF  128  4200334307        5         0         A   \n",
       "4    5    0     246       DF  128  4200334307        5         0        PA   \n",
       "\n",
       "   window  urgptr  OS  \n",
       "0     253       0   0  \n",
       "1     259       0   0  \n",
       "2   64240       0   0  \n",
       "3     260       0   0  \n",
       "4     260       0   0  "
      ]
     },
     "execution_count": 10,
     "metadata": {},
     "output_type": "execute_result"
    }
   ],
   "source": [
    "df_train.head()"
   ]
  },
  {
   "cell_type": "code",
   "execution_count": 11,
   "metadata": {},
   "outputs": [
    {
     "data": {
      "text/html": [
       "<div>\n",
       "<style scoped>\n",
       "    .dataframe tbody tr th:only-of-type {\n",
       "        vertical-align: middle;\n",
       "    }\n",
       "\n",
       "    .dataframe tbody tr th {\n",
       "        vertical-align: top;\n",
       "    }\n",
       "\n",
       "    .dataframe thead th {\n",
       "        text-align: right;\n",
       "    }\n",
       "</style>\n",
       "<table border=\"1\" class=\"dataframe\">\n",
       "  <thead>\n",
       "    <tr style=\"text-align: right;\">\n",
       "      <th></th>\n",
       "      <th>ihl</th>\n",
       "      <th>tos</th>\n",
       "      <th>length</th>\n",
       "      <th>ttl</th>\n",
       "      <th>ack</th>\n",
       "      <th>dataofs</th>\n",
       "      <th>reserved</th>\n",
       "      <th>window</th>\n",
       "      <th>urgptr</th>\n",
       "      <th>OS</th>\n",
       "    </tr>\n",
       "  </thead>\n",
       "  <tbody>\n",
       "    <tr>\n",
       "      <th>count</th>\n",
       "      <td>52092.0</td>\n",
       "      <td>52092.000000</td>\n",
       "      <td>52092.000000</td>\n",
       "      <td>52092.000000</td>\n",
       "      <td>5.209200e+04</td>\n",
       "      <td>52092.000000</td>\n",
       "      <td>52092.0</td>\n",
       "      <td>52092.000000</td>\n",
       "      <td>52092.0</td>\n",
       "      <td>52092.000000</td>\n",
       "    </tr>\n",
       "    <tr>\n",
       "      <th>mean</th>\n",
       "      <td>5.0</td>\n",
       "      <td>0.027643</td>\n",
       "      <td>68.250595</td>\n",
       "      <td>97.677033</td>\n",
       "      <td>2.249613e+09</td>\n",
       "      <td>6.591607</td>\n",
       "      <td>0.0</td>\n",
       "      <td>8519.881863</td>\n",
       "      <td>0.0</td>\n",
       "      <td>0.534439</td>\n",
       "    </tr>\n",
       "    <tr>\n",
       "      <th>std</th>\n",
       "      <td>0.0</td>\n",
       "      <td>1.628820</td>\n",
       "      <td>138.333261</td>\n",
       "      <td>31.956332</td>\n",
       "      <td>1.411742e+09</td>\n",
       "      <td>1.869491</td>\n",
       "      <td>0.0</td>\n",
       "      <td>9492.359890</td>\n",
       "      <td>0.0</td>\n",
       "      <td>0.608364</td>\n",
       "    </tr>\n",
       "    <tr>\n",
       "      <th>min</th>\n",
       "      <td>5.0</td>\n",
       "      <td>0.000000</td>\n",
       "      <td>40.000000</td>\n",
       "      <td>64.000000</td>\n",
       "      <td>0.000000e+00</td>\n",
       "      <td>5.000000</td>\n",
       "      <td>0.0</td>\n",
       "      <td>0.000000</td>\n",
       "      <td>0.0</td>\n",
       "      <td>0.000000</td>\n",
       "    </tr>\n",
       "    <tr>\n",
       "      <th>25%</th>\n",
       "      <td>5.0</td>\n",
       "      <td>0.000000</td>\n",
       "      <td>40.000000</td>\n",
       "      <td>64.000000</td>\n",
       "      <td>8.672804e+08</td>\n",
       "      <td>5.000000</td>\n",
       "      <td>0.0</td>\n",
       "      <td>1131.000000</td>\n",
       "      <td>0.0</td>\n",
       "      <td>0.000000</td>\n",
       "    </tr>\n",
       "    <tr>\n",
       "      <th>50%</th>\n",
       "      <td>5.0</td>\n",
       "      <td>0.000000</td>\n",
       "      <td>52.000000</td>\n",
       "      <td>128.000000</td>\n",
       "      <td>1.715293e+09</td>\n",
       "      <td>5.000000</td>\n",
       "      <td>0.0</td>\n",
       "      <td>4320.000000</td>\n",
       "      <td>0.0</td>\n",
       "      <td>0.000000</td>\n",
       "    </tr>\n",
       "    <tr>\n",
       "      <th>75%</th>\n",
       "      <td>5.0</td>\n",
       "      <td>0.000000</td>\n",
       "      <td>52.000000</td>\n",
       "      <td>128.000000</td>\n",
       "      <td>3.559525e+09</td>\n",
       "      <td>8.000000</td>\n",
       "      <td>0.0</td>\n",
       "      <td>19466.000000</td>\n",
       "      <td>0.0</td>\n",
       "      <td>1.000000</td>\n",
       "    </tr>\n",
       "    <tr>\n",
       "      <th>max</th>\n",
       "      <td>5.0</td>\n",
       "      <td>96.000000</td>\n",
       "      <td>1426.000000</td>\n",
       "      <td>128.000000</td>\n",
       "      <td>4.255625e+09</td>\n",
       "      <td>15.000000</td>\n",
       "      <td>0.0</td>\n",
       "      <td>65535.000000</td>\n",
       "      <td>0.0</td>\n",
       "      <td>2.000000</td>\n",
       "    </tr>\n",
       "  </tbody>\n",
       "</table>\n",
       "</div>"
      ],
      "text/plain": [
       "           ihl           tos        length           ttl           ack  \\\n",
       "count  52092.0  52092.000000  52092.000000  52092.000000  5.209200e+04   \n",
       "mean       5.0      0.027643     68.250595     97.677033  2.249613e+09   \n",
       "std        0.0      1.628820    138.333261     31.956332  1.411742e+09   \n",
       "min        5.0      0.000000     40.000000     64.000000  0.000000e+00   \n",
       "25%        5.0      0.000000     40.000000     64.000000  8.672804e+08   \n",
       "50%        5.0      0.000000     52.000000    128.000000  1.715293e+09   \n",
       "75%        5.0      0.000000     52.000000    128.000000  3.559525e+09   \n",
       "max        5.0     96.000000   1426.000000    128.000000  4.255625e+09   \n",
       "\n",
       "            dataofs  reserved        window   urgptr            OS  \n",
       "count  52092.000000   52092.0  52092.000000  52092.0  52092.000000  \n",
       "mean       6.591607       0.0   8519.881863      0.0      0.534439  \n",
       "std        1.869491       0.0   9492.359890      0.0      0.608364  \n",
       "min        5.000000       0.0      0.000000      0.0      0.000000  \n",
       "25%        5.000000       0.0   1131.000000      0.0      0.000000  \n",
       "50%        5.000000       0.0   4320.000000      0.0      0.000000  \n",
       "75%        8.000000       0.0  19466.000000      0.0      1.000000  \n",
       "max       15.000000       0.0  65535.000000      0.0      2.000000  "
      ]
     },
     "execution_count": 11,
     "metadata": {},
     "output_type": "execute_result"
    }
   ],
   "source": [
    "df_train.describe()"
   ]
  },
  {
   "cell_type": "markdown",
   "metadata": {},
   "source": [
    "### Preprocessing\n",
    "- tos, reserved, and urgptr are always zero. ihl is always 5. Drop\n",
    "- flags_ip and flags_tcp are text! convert to numbers using LabelEncoder\n",
    "- normalize (scale to between zero and one) or standarize (zero mean and unit variance)"
   ]
  },
  {
   "cell_type": "code",
   "execution_count": 12,
   "metadata": {},
   "outputs": [],
   "source": [
    "from sklearn.preprocessing import LabelEncoder, StandardScaler\n",
    "\n",
    "df_train = df_train.drop(['tos', 'reserved', 'urgptr', 'ihl'], axis=1)\n",
    "df_test = df_test.drop(['tos', 'reserved', 'urgptr', 'ihl'], axis=1)\n",
    "\n",
    "encoder_flags_ip = LabelEncoder()\n",
    "new_col = encoder_flags_ip.fit_transform(df_train.flags_ip.values)\n",
    "new_col_max = np.max(new_col)\n",
    "new_col = new_col / new_col_max\n",
    "df_train.flags_ip = new_col\n",
    "new_col = encoder_flags_ip.transform(df_test.flags_ip.values)\n",
    "new_col = new_col / new_col_max\n",
    "df_test.flags_ip = new_col\n",
    "\n",
    "encoder_flags_tcp = LabelEncoder()\n",
    "new_col = encoder_flags_tcp.fit_transform(df_train.flags_tcp.values)\n",
    "new_col_max = np.max(new_col)\n",
    "new_col = new_col / new_col_max\n",
    "df_train.flags_tcp = new_col\n",
    "new_col = encoder_flags_tcp.transform(df_test.flags_tcp.values)\n",
    "new_col = new_col / new_col_max\n",
    "df_test.flags_tcp = new_col\n",
    "\n",
    "\n",
    "\n",
    "scaler = StandardScaler()\n",
    "scaler.fit(df_train.loc[:, ['length', 'ttl', 'ack', 'dataofs', 'window']].values.astype(np.float64))\n",
    "df_train.loc[:, ['length', 'ttl', 'ack', 'dataofs', 'window']] = scaler.transform(df_train.loc[:, ['length', 'ttl', 'ack', 'dataofs', 'window']].values.astype(np.float64))\n",
    "df_test.loc[:, ['length', 'ttl', 'ack', 'dataofs', 'window']] = scaler.transform(df_test.loc[:, ['length', 'ttl', 'ack', 'dataofs', 'window']].values.astype(np.float64))"
   ]
  },
  {
   "cell_type": "code",
   "execution_count": 14,
   "metadata": {},
   "outputs": [
    {
     "data": {
      "text/html": [
       "<div>\n",
       "<style scoped>\n",
       "    .dataframe tbody tr th:only-of-type {\n",
       "        vertical-align: middle;\n",
       "    }\n",
       "\n",
       "    .dataframe tbody tr th {\n",
       "        vertical-align: top;\n",
       "    }\n",
       "\n",
       "    .dataframe thead th {\n",
       "        text-align: right;\n",
       "    }\n",
       "</style>\n",
       "<table border=\"1\" class=\"dataframe\">\n",
       "  <thead>\n",
       "    <tr style=\"text-align: right;\">\n",
       "      <th></th>\n",
       "      <th>length</th>\n",
       "      <th>flags_ip</th>\n",
       "      <th>ttl</th>\n",
       "      <th>ack</th>\n",
       "      <th>dataofs</th>\n",
       "      <th>flags_tcp</th>\n",
       "      <th>window</th>\n",
       "      <th>OS</th>\n",
       "    </tr>\n",
       "  </thead>\n",
       "  <tbody>\n",
       "    <tr>\n",
       "      <th>count</th>\n",
       "      <td>5.209200e+04</td>\n",
       "      <td>52092.000000</td>\n",
       "      <td>5.209200e+04</td>\n",
       "      <td>5.209200e+04</td>\n",
       "      <td>5.209200e+04</td>\n",
       "      <td>52092.000000</td>\n",
       "      <td>5.209200e+04</td>\n",
       "      <td>52092.000000</td>\n",
       "    </tr>\n",
       "    <tr>\n",
       "      <th>mean</th>\n",
       "      <td>-1.745939e-17</td>\n",
       "      <td>0.999866</td>\n",
       "      <td>1.396751e-16</td>\n",
       "      <td>1.222158e-16</td>\n",
       "      <td>-2.269721e-16</td>\n",
       "      <td>0.036570</td>\n",
       "      <td>-2.182424e-16</td>\n",
       "      <td>0.534439</td>\n",
       "    </tr>\n",
       "    <tr>\n",
       "      <th>std</th>\n",
       "      <td>1.000010e+00</td>\n",
       "      <td>0.011591</td>\n",
       "      <td>1.000010e+00</td>\n",
       "      <td>1.000010e+00</td>\n",
       "      <td>1.000010e+00</td>\n",
       "      <td>0.138927</td>\n",
       "      <td>1.000010e+00</td>\n",
       "      <td>0.608364</td>\n",
       "    </tr>\n",
       "    <tr>\n",
       "      <th>min</th>\n",
       "      <td>-2.042232e-01</td>\n",
       "      <td>0.000000</td>\n",
       "      <td>-1.053855e+00</td>\n",
       "      <td>-1.593517e+00</td>\n",
       "      <td>-8.513668e-01</td>\n",
       "      <td>0.000000</td>\n",
       "      <td>-8.975601e-01</td>\n",
       "      <td>0.000000</td>\n",
       "    </tr>\n",
       "    <tr>\n",
       "      <th>25%</th>\n",
       "      <td>-2.042232e-01</td>\n",
       "      <td>1.000000</td>\n",
       "      <td>-1.053855e+00</td>\n",
       "      <td>-9.791777e-01</td>\n",
       "      <td>-8.513668e-01</td>\n",
       "      <td>0.000000</td>\n",
       "      <td>-7.784105e-01</td>\n",
       "      <td>0.000000</td>\n",
       "    </tr>\n",
       "    <tr>\n",
       "      <th>50%</th>\n",
       "      <td>-1.174754e-01</td>\n",
       "      <td>1.000000</td>\n",
       "      <td>9.488967e-01</td>\n",
       "      <td>-3.784866e-01</td>\n",
       "      <td>-8.513668e-01</td>\n",
       "      <td>0.000000</td>\n",
       "      <td>-4.424529e-01</td>\n",
       "      <td>0.000000</td>\n",
       "    </tr>\n",
       "    <tr>\n",
       "      <th>75%</th>\n",
       "      <td>-1.174754e-01</td>\n",
       "      <td>1.000000</td>\n",
       "      <td>9.488967e-01</td>\n",
       "      <td>9.278785e-01</td>\n",
       "      <td>7.533636e-01</td>\n",
       "      <td>0.000000</td>\n",
       "      <td>1.153161e+00</td>\n",
       "      <td>1.000000</td>\n",
       "    </tr>\n",
       "    <tr>\n",
       "      <th>max</th>\n",
       "      <td>9.815155e+00</td>\n",
       "      <td>1.000000</td>\n",
       "      <td>9.488967e-01</td>\n",
       "      <td>1.420962e+00</td>\n",
       "      <td>4.497734e+00</td>\n",
       "      <td>1.000000</td>\n",
       "      <td>6.006480e+00</td>\n",
       "      <td>2.000000</td>\n",
       "    </tr>\n",
       "  </tbody>\n",
       "</table>\n",
       "</div>"
      ],
      "text/plain": [
       "             length      flags_ip           ttl           ack       dataofs  \\\n",
       "count  5.209200e+04  52092.000000  5.209200e+04  5.209200e+04  5.209200e+04   \n",
       "mean  -1.745939e-17      0.999866  1.396751e-16  1.222158e-16 -2.269721e-16   \n",
       "std    1.000010e+00      0.011591  1.000010e+00  1.000010e+00  1.000010e+00   \n",
       "min   -2.042232e-01      0.000000 -1.053855e+00 -1.593517e+00 -8.513668e-01   \n",
       "25%   -2.042232e-01      1.000000 -1.053855e+00 -9.791777e-01 -8.513668e-01   \n",
       "50%   -1.174754e-01      1.000000  9.488967e-01 -3.784866e-01 -8.513668e-01   \n",
       "75%   -1.174754e-01      1.000000  9.488967e-01  9.278785e-01  7.533636e-01   \n",
       "max    9.815155e+00      1.000000  9.488967e-01  1.420962e+00  4.497734e+00   \n",
       "\n",
       "          flags_tcp        window            OS  \n",
       "count  52092.000000  5.209200e+04  52092.000000  \n",
       "mean       0.036570 -2.182424e-16      0.534439  \n",
       "std        0.138927  1.000010e+00      0.608364  \n",
       "min        0.000000 -8.975601e-01      0.000000  \n",
       "25%        0.000000 -7.784105e-01      0.000000  \n",
       "50%        0.000000 -4.424529e-01      0.000000  \n",
       "75%        0.000000  1.153161e+00      1.000000  \n",
       "max        1.000000  6.006480e+00      2.000000  "
      ]
     },
     "execution_count": 14,
     "metadata": {},
     "output_type": "execute_result"
    }
   ],
   "source": [
    "df_train.describe()"
   ]
  },
  {
   "cell_type": "markdown",
   "metadata": {},
   "source": [
    "### Split train & test"
   ]
  },
  {
   "cell_type": "code",
   "execution_count": 15,
   "metadata": {},
   "outputs": [
    {
     "name": "stdout",
     "output_type": "stream",
     "text": [
      "(52092, 7) (9582, 7)\n",
      "(52092, 3) (9582, 3)\n"
     ]
    }
   ],
   "source": [
    "n_classes = 3\n",
    "\n",
    "X_train = df_train.iloc[:,:-1].values\n",
    "y_train = df_train.iloc[:,-1].values\n",
    "X_test = df_test.iloc[:,:-1].values\n",
    "y_test = df_test.iloc[:,-1].values\n",
    "print(X_train.shape, X_test.shape)\n",
    "\n",
    "# one hot encoding of the labels\n",
    "y_train_one_hot = to_categorical(y_train, num_classes=n_classes)\n",
    "y_test_one_hot = to_categorical(y_test, num_classes=n_classes)\n",
    "print(y_train_one_hot.shape, y_test_one_hot.shape)"
   ]
  },
  {
   "cell_type": "code",
   "execution_count": 16,
   "metadata": {},
   "outputs": [
    {
     "name": "stdout",
     "output_type": "stream",
     "text": [
      "(52092,) (9582,)\n"
     ]
    }
   ],
   "source": [
    "print(y_train.shape, y_test.shape)"
   ]
  },
  {
   "cell_type": "markdown",
   "metadata": {},
   "source": [
    "### Build the Model"
   ]
  },
  {
   "cell_type": "code",
   "execution_count": 98,
   "metadata": {},
   "outputs": [
    {
     "name": "stdout",
     "output_type": "stream",
     "text": [
      "Train on 52092 samples, validate on 9582 samples\n",
      "Epoch 1/12\n",
      "52092/52092 [==============================] - 1s 13us/step - loss: 1.0016 - categorical_accuracy: 0.4832 - val_loss: 1.0254 - val_categorical_accuracy: 0.3859\n",
      "Epoch 2/12\n",
      "52092/52092 [==============================] - 1s 10us/step - loss: 0.8432 - categorical_accuracy: 0.6513 - val_loss: 0.9406 - val_categorical_accuracy: 0.4172\n",
      "Epoch 3/12\n",
      "52092/52092 [==============================] - 1s 10us/step - loss: 0.7090 - categorical_accuracy: 0.7623 - val_loss: 0.8657 - val_categorical_accuracy: 0.5850\n",
      "Epoch 4/12\n",
      "52092/52092 [==============================] - 1s 10us/step - loss: 0.5894 - categorical_accuracy: 0.8295 - val_loss: 0.8014 - val_categorical_accuracy: 0.6332\n",
      "Epoch 5/12\n",
      "52092/52092 [==============================] - 1s 11us/step - loss: 0.4936 - categorical_accuracy: 0.8681 - val_loss: 0.7480 - val_categorical_accuracy: 0.6882\n",
      "Epoch 6/12\n",
      "52092/52092 [==============================] - 1s 10us/step - loss: 0.4143 - categorical_accuracy: 0.8930 - val_loss: 0.7033 - val_categorical_accuracy: 0.7362\n",
      "Epoch 7/12\n",
      "52092/52092 [==============================] - 1s 10us/step - loss: 0.3564 - categorical_accuracy: 0.9062 - val_loss: 0.6699 - val_categorical_accuracy: 0.7639\n",
      "Epoch 8/12\n",
      "52092/52092 [==============================] - 1s 10us/step - loss: 0.3154 - categorical_accuracy: 0.9150 - val_loss: 0.6466 - val_categorical_accuracy: 0.7685\n",
      "Epoch 9/12\n",
      "52092/52092 [==============================] - 1s 10us/step - loss: 0.2829 - categorical_accuracy: 0.9212 - val_loss: 0.6320 - val_categorical_accuracy: 0.7688\n",
      "Epoch 10/12\n",
      "52092/52092 [==============================] - 1s 10us/step - loss: 0.2607 - categorical_accuracy: 0.9249 - val_loss: 0.6215 - val_categorical_accuracy: 0.7688\n",
      "Epoch 11/12\n",
      "52092/52092 [==============================] - 1s 10us/step - loss: 0.2452 - categorical_accuracy: 0.9269 - val_loss: 0.6119 - val_categorical_accuracy: 0.7688\n",
      "Epoch 12/12\n",
      "52092/52092 [==============================] - 0s 10us/step - loss: 0.2313 - categorical_accuracy: 0.9291 - val_loss: 0.6023 - val_categorical_accuracy: 0.7688\n"
     ]
    },
    {
     "data": {
      "text/plain": [
       "<keras.callbacks.History at 0x1f0817f3ef0>"
      ]
     },
     "execution_count": 98,
     "metadata": {},
     "output_type": "execute_result"
    }
   ],
   "source": [
    "input_dim = X_train.shape[1]\n",
    "\n",
    "keras.backend.clear_session()\n",
    "model = Sequential()\n",
    "model.add(Dense(units=64, activation='relu', input_dim=input_dim))\n",
    "#model.add(LeakyReLU(alpha=0.3))\n",
    "model.add(Dropout(0.5))\n",
    "model.add(Dense(units=32, activation='relu'))\n",
    "#model.add(LeakyReLU(alpha=0.3))\n",
    "model.add(Dropout(0.5))\n",
    "model.add(Dense(units=n_classes, activation='softmax'))\n",
    "\n",
    "# If your targets are one-hot encoded, use categorical_crossentropy\n",
    "# But if your targets are integers (or words), use sparse_categorical_crossentropy\n",
    "model.compile(optimizer=RMSprop(lr=0.00002),\n",
    "              loss=keras.losses.categorical_crossentropy,\n",
    "              metrics=[categorical_accuracy])  # categorical_accuracy ?\n",
    "\n",
    "# train\n",
    "model.fit(X_train, y_train_one_hot, batch_size=128, epochs=12, validation_data=(X_test,y_test_one_hot))"
   ]
  },
  {
   "cell_type": "code",
   "execution_count": 88,
   "metadata": {},
   "outputs": [
    {
     "name": "stdout",
     "output_type": "stream",
     "text": [
      "[[3828    0    0]\n",
      " [   0 2954  691]\n",
      " [   0 1748  361]]\n"
     ]
    },
    {
     "data": {
      "image/png": "[encoded data removed]",
      "text/plain": [
       "<Figure size 432x288 with 2 Axes>"
      ]
     },
     "metadata": {
      "needs_background": "light"
     },
     "output_type": "display_data"
    }
   ],
   "source": [
    "import seaborn as sns\n",
    "from sklearn.metrics import confusion_matrix\n",
    "\n",
    "y_pred = model.predict_classes(X_test)\n",
    "#print(y_pred)\n",
    "cm = confusion_matrix(y_test, y_pred)\n",
    "print(cm)\n",
    "\n",
    "ax= plt.subplot()\n",
    "sns.heatmap(cm, annot=True, ax=ax, fmt='g'); #annot=True to annotate cells\n",
    "\n",
    "# labels, title and ticks\n",
    "ax.set_xlabel('Predicted labels');ax.set_ylabel('True labels'); \n",
    "ax.set_title('Confusion Matrix'); \n",
    "ax.xaxis.set_ticklabels(['Win10', 'Linux', 'Android']); ax.yaxis.set_ticklabels(['Win10', 'Linux', 'Android']);"
   ]
  },
  {
   "cell_type": "code",
   "execution_count": 99,
   "metadata": {},
   "outputs": [
    {
     "data": {
      "image/png": "[encoded data removed]",
      "text/plain": [
       "<Figure size 432x288 with 1 Axes>"
      ]
     },
     "metadata": {
      "needs_background": "light"
     },
     "output_type": "display_data"
    },
    {
     "data": {
      "image/png": "[encoded data removed]",
      "text/plain": [
       "<Figure size 432x288 with 1 Axes>"
      ]
     },
     "metadata": {
      "needs_background": "light"
     },
     "output_type": "display_data"
    }
   ],
   "source": [
    "import matplotlib.pyplot as plt\n",
    "\n",
    "def plot_accuracy_and_loss(model):\n",
    "    epochs = model.history.params['epochs']\n",
    "    epochs = range(epochs)\n",
    "    val_loss = model.history.history['val_loss']\n",
    "    val_accuracy = model.history.history['val_categorical_accuracy']\n",
    "    training_loss = model.history.history['loss']\n",
    "    training_accuracy = model.history.history['categorical_accuracy']\n",
    "\n",
    "    plt.plot(epochs, val_loss, 'r', label='test')\n",
    "    plt.plot(epochs, training_loss, 'b', label='training')\n",
    "    plt.xlabel('epochs')\n",
    "    plt.ylabel('Loss')\n",
    "    plt.legend(loc='center right')\n",
    "    plt.grid(True)\n",
    "    plt.show()\n",
    "\n",
    "    plt.plot(epochs, val_accuracy, 'r', label='test')\n",
    "    plt.plot(epochs, training_accuracy, 'b', label='training')\n",
    "    plt.xlabel('epochs')\n",
    "    plt.ylabel('Accuracy')\n",
    "    plt.legend(loc='center right')\n",
    "    plt.grid(True)\n",
    "    plt.show()\n",
    "\n",
    "plot_accuracy_and_loss(model)"
   ]
  },
  {
   "cell_type": "code",
   "execution_count": 46,
   "metadata": {},
   "outputs": [],
   "source": [
    "model.save('./models/OS-Fingerprinting/no_seq.h5')\n",
    "#keras.models.load_model"
   ]
  },
  {
   "cell_type": "markdown",
   "metadata": {},
   "source": [
    "### sequence of packets"
   ]
  },
  {
   "cell_type": "code",
   "execution_count": 42,
   "metadata": {},
   "outputs": [
    {
     "name": "stdout",
     "output_type": "stream",
     "text": [
      "(52035, 20, 7) (52035,) (52035, 3)\n",
      "(9525, 20, 7) (9525,) (9525, 3)\n"
     ]
    }
   ],
   "source": [
    "def create_seq_from_df(df, label, seq_len=20):\n",
    "    seq_len = 20\n",
    "    X = df[df.OS == label].iloc[:,:-1].values    \n",
    "    old_data_len = X.shape[0]\n",
    "    n_features = X.shape[1]\n",
    "    n_samples = old_data_len - seq_len+1\n",
    "    X_seq = np.zeros((n_samples, seq_len, n_features))\n",
    "    for i in range(n_samples):\n",
    "        for j in range(seq_len):\n",
    "            X_seq[i,j,:] = X[i+j,:]\n",
    "    y = np.ones((n_samples,), dtype=np.float64) * label\n",
    "    y_one_hot = to_categorical(y, num_classes=n_classes)\n",
    "    return X_seq, y, y_one_hot\n",
    "\n",
    "def create_seq(X, seq_len=20):\n",
    "    seq_len = 20\n",
    "    old_data_len = X.shape[0]\n",
    "    n_features = X.shape[1]\n",
    "    n_samples = old_data_len - seq_len+1\n",
    "    X_seq = np.zeros((n_samples, seq_len, n_features))\n",
    "    for i in range(n_samples):\n",
    "        for j in range(seq_len):\n",
    "            X_seq[i,j,:] = X[i+j,:]\n",
    "    return X_seq, (seq_len,n_features)\n",
    "\n",
    "X_train_seq_win, y_train_seq_win, y_train_seq_one_hot_win = create_seq_from_df(df_train, 0, 20)\n",
    "X_train_seq_kali, y_train_seq_kali, y_train_seq_one_hot_kali = create_seq_from_df(df_train, 1, 20)\n",
    "X_train_seq_android, y_train_seq_android, y_train_seq_one_hot_android = create_seq_from_df(df_train, 2, 20)\n",
    "X_train_seq = np.concatenate((X_train_seq_win,X_train_seq_kali,X_train_seq_android), axis=0)\n",
    "y_train_seq = np.concatenate((y_train_seq_win,y_train_seq_kali,y_train_seq_android), axis=0)\n",
    "y_train_seq_one_hot = np.concatenate((y_train_seq_one_hot_win,y_train_seq_one_hot_kali,y_train_seq_one_hot_android), axis=0)\n",
    "\n",
    "X_test_seq_win, y_test_seq_win, y_test_seq_one_hot_win = create_seq_from_df(df_test, 0, 20)\n",
    "X_test_seq_kali, y_test_seq_kali, y_test_seq_one_hot_kali = create_seq_from_df(df_test, 1, 20)\n",
    "X_test_seq_android, y_test_seq_android, y_test_seq_one_hot_android = create_seq_from_df(df_test, 2, 20)\n",
    "X_test_seq = np.concatenate((X_test_seq_win,X_test_seq_kali,X_test_seq_android), axis=0)\n",
    "y_test_seq = np.concatenate((y_test_seq_win,y_test_seq_kali,y_test_seq_android), axis=0)\n",
    "y_test_seq_one_hot = np.concatenate((y_test_seq_one_hot_win,y_test_seq_one_hot_kali,y_test_seq_one_hot_android), axis=0)\n",
    "\n",
    "\n",
    "#X_test_seq, y_test_seq, y_test_seq_one_hot, _ = create_seq(X_test)\n",
    "print(X_train_seq.shape, y_train_seq.shape, y_train_seq_one_hot.shape)\n",
    "print(X_test_seq.shape, y_test_seq.shape, y_test_seq_one_hot.shape)"
   ]
  },
  {
   "cell_type": "code",
   "execution_count": 121,
   "metadata": {},
   "outputs": [
    {
     "name": "stdout",
     "output_type": "stream",
     "text": [
      "_________________________________________________________________\n",
      "Layer (type)                 Output Shape              Param #   \n",
      "=================================================================\n",
      "lstm_1 (LSTM)                (None, 140)               82880     \n",
      "_________________________________________________________________\n",
      "dense_1 (Dense)              (None, 222)               31302     \n",
      "_________________________________________________________________\n",
      "dense_2 (Dense)              (None, 3)                 669       \n",
      "=================================================================\n",
      "Total params: 114,851\n",
      "Trainable params: 114,851\n",
      "Non-trainable params: 0\n",
      "_________________________________________________________________\n",
      "Train on 52035 samples, validate on 9525 samples\n",
      "Epoch 1/12\n",
      "52035/52035 [==============================] - 17s 318us/step - loss: 0.8743 - categorical_accuracy: 0.9280 - val_loss: 0.9160 - val_categorical_accuracy: 0.7604\n",
      "Epoch 2/12\n",
      "52035/52035 [==============================] - 16s 299us/step - loss: 0.6180 - categorical_accuracy: 0.9335 - val_loss: 0.7421 - val_categorical_accuracy: 0.7694\n",
      "Epoch 3/12\n",
      "52035/52035 [==============================] - 15s 284us/step - loss: 0.3600 - categorical_accuracy: 0.9355 - val_loss: 0.5765 - val_categorical_accuracy: 0.7764\n",
      "Epoch 4/12\n",
      "52035/52035 [==============================] - 15s 291us/step - loss: 0.1933 - categorical_accuracy: 0.9367 - val_loss: 0.4988 - val_categorical_accuracy: 0.7796\n",
      "Epoch 5/12\n",
      "52035/52035 [==============================] - 15s 296us/step - loss: 0.1422 - categorical_accuracy: 0.9373 - val_loss: 0.4636 - val_categorical_accuracy: 0.7788\n",
      "Epoch 6/12\n",
      "52035/52035 [==============================] - 15s 281us/step - loss: 0.1247 - categorical_accuracy: 0.9430 - val_loss: 0.4475 - val_categorical_accuracy: 0.7738\n",
      "Epoch 7/12\n",
      "52035/52035 [==============================] - 15s 286us/step - loss: 0.1151 - categorical_accuracy: 0.9482 - val_loss: 0.4442 - val_categorical_accuracy: 0.7670\n",
      "Epoch 8/12\n",
      "52035/52035 [==============================] - 15s 285us/step - loss: 0.1088 - categorical_accuracy: 0.9497 - val_loss: 0.4432 - val_categorical_accuracy: 0.7620\n",
      "Epoch 9/12\n",
      "52035/52035 [==============================] - 15s 281us/step - loss: 0.1042 - categorical_accuracy: 0.9521 - val_loss: 0.4460 - val_categorical_accuracy: 0.7617\n",
      "Epoch 10/12\n",
      "52035/52035 [==============================] - 15s 281us/step - loss: 0.1012 - categorical_accuracy: 0.9533 - val_loss: 0.4490 - val_categorical_accuracy: 0.7613\n",
      "Epoch 11/12\n",
      "52035/52035 [==============================] - 14s 278us/step - loss: 0.0993 - categorical_accuracy: 0.9540 - val_loss: 0.4500 - val_categorical_accuracy: 0.7628\n",
      "Epoch 12/12\n",
      "52035/52035 [==============================] - 14s 278us/step - loss: 0.0979 - categorical_accuracy: 0.9547 - val_loss: 0.4520 - val_categorical_accuracy: 0.7614\n"
     ]
    },
    {
     "data": {
      "text/plain": [
       "<keras.callbacks.History at 0x1f0ace7c668>"
      ]
     },
     "execution_count": 121,
     "metadata": {},
     "output_type": "execute_result"
    }
   ],
   "source": [
    "input_shape = X_train_seq.shape[1:]\n",
    "\n",
    "keras.backend.clear_session()\n",
    "model_seq = Sequential()\n",
    "model_seq.add(LSTM(140, input_shape=input_shape)) # , dropout=0.2, recurrent_dropout=0.2\n",
    "#model_seq.add(BatchNormalization())\n",
    "model_seq.add(Dense(units=222, activation='relu'))\n",
    "#model_seq.add(Dropout(0.4))\n",
    "#model_seq.add(BatchNormalization())\n",
    "model_seq.add(Dense(units=n_classes, activation='softmax'))\n",
    "\n",
    "model_seq.summary()\n",
    "\n",
    "# If your targets are one-hot encoded, use categorical_crossentropy\n",
    "# But if your targets are integers (or words), use sparse_categorical_crossentropy\n",
    "model_seq.compile(optimizer=RMSprop(lr=0.000005),\n",
    "              loss=keras.losses.categorical_crossentropy,\n",
    "              metrics=[categorical_accuracy])\n",
    "\n",
    "# train\n",
    "model_seq.fit(X_train_seq, y_train_seq_one_hot, batch_size=128, epochs=12, validation_data=(X_test_seq,y_test_seq_one_hot))"
   ]
  },
  {
   "cell_type": "code",
   "execution_count": 122,
   "metadata": {},
   "outputs": [
    {
     "data": {
      "image/png": "[encoded data removed]",
      "text/plain": [
       "<Figure size 432x288 with 1 Axes>"
      ]
     },
     "metadata": {
      "needs_background": "light"
     },
     "output_type": "display_data"
    },
    {
     "data": {
      "image/png": "[encoded data removed]",
      "text/plain": [
       "<Figure size 432x288 with 1 Axes>"
      ]
     },
     "metadata": {
      "needs_background": "light"
     },
     "output_type": "display_data"
    }
   ],
   "source": [
    "plot_accuracy_and_loss(model_seq)"
   ]
  },
  {
   "cell_type": "markdown",
   "metadata": {},
   "source": [
    "### CONV(32,4,2,1,V) - BN - CONV(64,4,2,1,V) - BN - LSTM(100) - DP(0.2) - FC(100) - DP(0.4)"
   ]
  },
  {
   "cell_type": "code",
   "execution_count": null,
   "metadata": {},
   "outputs": [],
   "source": [
    "import os\n",
    "os.environ[\"CUDA_DEVICE_ORDER\"] = \"PCI_BUS_ID\"   # see issue #152\n",
    "os.environ[\"CUDA_VISIBLE_DEVICES\"] = \"\""
   ]
  },
  {
   "cell_type": "code",
   "execution_count": null,
   "metadata": {},
   "outputs": [],
   "source": [
    "X_train_seq.shape[1:]"
   ]
  },
  {
   "cell_type": "code",
   "execution_count": 162,
   "metadata": {},
   "outputs": [
    {
     "name": "stdout",
     "output_type": "stream",
     "text": [
      "_________________________________________________________________\n",
      "Layer (type)                 Output Shape              Param #   \n",
      "=================================================================\n",
      "conv2d_1 (Conv2D)            (None, 18, 1, 24)         528       \n",
      "_________________________________________________________________\n",
      "reshape_1 (Reshape)          (None, 18, 24)            0         \n",
      "_________________________________________________________________\n",
      "lstm_1 (LSTM)                (None, 22)                4136      \n",
      "_________________________________________________________________\n",
      "dense_1 (Dense)              (None, 666)               15318     \n",
      "_________________________________________________________________\n",
      "dropout_1 (Dropout)          (None, 666)               0         \n",
      "_________________________________________________________________\n",
      "dense_2 (Dense)              (None, 3)                 2001      \n",
      "=================================================================\n",
      "Total params: 21,983\n",
      "Trainable params: 21,983\n",
      "Non-trainable params: 0\n",
      "_________________________________________________________________\n",
      "Train on 52035 samples, validate on 9525 samples\n",
      "Epoch 1/22\n",
      "52035/52035 [==============================] - 3s 52us/step - loss: 1.0040 - categorical_accuracy: 0.6882 - val_loss: 1.0103 - val_categorical_accuracy: 0.4019\n",
      "Epoch 2/22\n",
      "52035/52035 [==============================] - 2s 41us/step - loss: 0.8643 - categorical_accuracy: 0.8065 - val_loss: 0.9378 - val_categorical_accuracy: 0.4175\n",
      "Epoch 3/22\n",
      "52035/52035 [==============================] - 2s 41us/step - loss: 0.7416 - categorical_accuracy: 0.8458 - val_loss: 0.8689 - val_categorical_accuracy: 0.5011\n",
      "Epoch 4/22\n",
      "52035/52035 [==============================] - 2s 41us/step - loss: 0.6380 - categorical_accuracy: 0.9014 - val_loss: 0.8054 - val_categorical_accuracy: 0.6931\n",
      "Epoch 5/22\n",
      "52035/52035 [==============================] - 2s 41us/step - loss: 0.5520 - categorical_accuracy: 0.9352 - val_loss: 0.7486 - val_categorical_accuracy: 0.7688\n",
      "Epoch 6/22\n",
      "52035/52035 [==============================] - 2s 40us/step - loss: 0.4826 - categorical_accuracy: 0.9390 - val_loss: 0.7010 - val_categorical_accuracy: 0.7783\n",
      "Epoch 7/22\n",
      "52035/52035 [==============================] - 2s 41us/step - loss: 0.4263 - categorical_accuracy: 0.9392 - val_loss: 0.6628 - val_categorical_accuracy: 0.7804\n",
      "Epoch 8/22\n",
      "52035/52035 [==============================] - 2s 41us/step - loss: 0.3817 - categorical_accuracy: 0.9392 - val_loss: 0.6330 - val_categorical_accuracy: 0.7804\n",
      "Epoch 9/22\n",
      "52035/52035 [==============================] - 2s 41us/step - loss: 0.3451 - categorical_accuracy: 0.9393 - val_loss: 0.6100 - val_categorical_accuracy: 0.7804\n",
      "Epoch 10/22\n",
      "52035/52035 [==============================] - 2s 44us/step - loss: 0.3156 - categorical_accuracy: 0.9390 - val_loss: 0.5924 - val_categorical_accuracy: 0.7804\n",
      "Epoch 11/22\n",
      "52035/52035 [==============================] - 2s 46us/step - loss: 0.2918 - categorical_accuracy: 0.9386 - val_loss: 0.5790 - val_categorical_accuracy: 0.7804\n",
      "Epoch 12/22\n",
      "52035/52035 [==============================] - 2s 41us/step - loss: 0.2724 - categorical_accuracy: 0.9383 - val_loss: 0.5687 - val_categorical_accuracy: 0.7805\n",
      "Epoch 13/22\n",
      "52035/52035 [==============================] - 2s 44us/step - loss: 0.2564 - categorical_accuracy: 0.9384 - val_loss: 0.5605 - val_categorical_accuracy: 0.7805\n",
      "Epoch 14/22\n",
      "52035/52035 [==============================] - 2s 42us/step - loss: 0.2434 - categorical_accuracy: 0.9383 - val_loss: 0.5538 - val_categorical_accuracy: 0.7806\n",
      "Epoch 15/22\n",
      "52035/52035 [==============================] - 2s 43us/step - loss: 0.2320 - categorical_accuracy: 0.9383 - val_loss: 0.5482 - val_categorical_accuracy: 0.7806\n",
      "Epoch 16/22\n",
      "52035/52035 [==============================] - 2s 41us/step - loss: 0.2226 - categorical_accuracy: 0.9387 - val_loss: 0.5432 - val_categorical_accuracy: 0.7806\n",
      "Epoch 17/22\n",
      "52035/52035 [==============================] - 2s 41us/step - loss: 0.2147 - categorical_accuracy: 0.9388 - val_loss: 0.5387 - val_categorical_accuracy: 0.7806\n",
      "Epoch 18/22\n",
      "52035/52035 [==============================] - 2s 41us/step - loss: 0.2076 - categorical_accuracy: 0.9390 - val_loss: 0.5346 - val_categorical_accuracy: 0.7806\n",
      "Epoch 19/22\n",
      "52035/52035 [==============================] - 2s 44us/step - loss: 0.2013 - categorical_accuracy: 0.9392 - val_loss: 0.5307 - val_categorical_accuracy: 0.7806\n",
      "Epoch 20/22\n",
      "52035/52035 [==============================] - 2s 43us/step - loss: 0.1958 - categorical_accuracy: 0.9393 - val_loss: 0.5270 - val_categorical_accuracy: 0.7806\n",
      "Epoch 21/22\n",
      "52035/52035 [==============================] - 2s 47us/step - loss: 0.1905 - categorical_accuracy: 0.9393 - val_loss: 0.5235 - val_categorical_accuracy: 0.7806\n",
      "Epoch 22/22\n",
      "52035/52035 [==============================] - 2s 42us/step - loss: 0.1863 - categorical_accuracy: 0.9393 - val_loss: 0.5202 - val_categorical_accuracy: 0.7806\n"
     ]
    },
    {
     "data": {
      "text/plain": [
       "<keras.callbacks.History at 0x1f0c9755ba8>"
      ]
     },
     "execution_count": 162,
     "metadata": {},
     "output_type": "execute_result"
    }
   ],
   "source": [
    "input_shape = X_train_seq.shape[1:] + (1,)\n",
    "\n",
    "keras.backend.clear_session()\n",
    "model2a = Sequential()\n",
    "#odel2a.add(Reshape((20, 7, 1)))\n",
    "model2a.add(Conv2D(24, kernel_size=(3,7), strides=1, data_format='channels_last', activation='relu', input_shape=input_shape))\n",
    "#model2a.add(LeakyReLU(alpha=0.3))\n",
    "#model2a.add(BatchNormalization())\n",
    "model2a.add(Reshape((18,24)))\n",
    "#model2a.add(Flatten())\n",
    "#model2a.summary()\n",
    "#model.add(Permute(()))\n",
    "#model2a.add(Conv2D(64, kernel_size=(4,7), strides=1, data_format='channels_last', activation='relu'))\n",
    "#model2a.add(LeakyReLU(alpha=0.3))\n",
    "#model2a.add(BatchNormalization())\n",
    "#model2a.summary()\n",
    "model2a.add(LSTM(22)) # , dropout=0.2, recurrent_dropout=0.2\n",
    "model2a.add(Dense(666, activation='relu'))\n",
    "model2a.add(Dropout(0.4))\n",
    "model2a.add(Dense(units=n_classes, activation='softmax'))\n",
    "\n",
    "model2a.summary()\n",
    "\n",
    "# If your targets are one-hot encoded, use categorical_crossentropy\n",
    "# But if your targets are integers (or words), use sparse_categorical_crossentropy\n",
    "model2a.compile(optimizer=keras.optimizers.Adagrad(lr=0.0003),\n",
    "              loss=keras.losses.categorical_crossentropy,\n",
    "              metrics=[categorical_accuracy])\n",
    "\n",
    "# train\n",
    "model2a.fit(X_train_seq.reshape(X_train_seq.shape+(1,)), y_train_seq_one_hot, batch_size=1024, epochs=22, validation_data=(X_test_seq.reshape(X_test_seq.shape+(1,)),y_test_seq_one_hot))\n",
    "# .reshape(X_train_seq.shape + (1,))"
   ]
  },
  {
   "cell_type": "code",
   "execution_count": 163,
   "metadata": {},
   "outputs": [
    {
     "data": {
      "image/png": "[encoded data removed]",
      "text/plain": [
       "<Figure size 432x288 with 1 Axes>"
      ]
     },
     "metadata": {
      "needs_background": "light"
     },
     "output_type": "display_data"
    },
    {
     "data": {
      "image/png": "[encoded data removed]",
      "text/plain": [
       "<Figure size 432x288 with 1 Axes>"
      ]
     },
     "metadata": {
      "needs_background": "light"
     },
     "output_type": "display_data"
    }
   ],
   "source": [
    "plot_accuracy_and_loss(model2a)"
   ]
  },
  {
   "cell_type": "code",
   "execution_count": 132,
   "metadata": {},
   "outputs": [],
   "source": [
    "model2a.save('./models/OS-Fingerprinting/model2a_1.h5')\n",
    "#keras.models.load_model"
   ]
  }
 ],
 "metadata": {
  "kernelspec": {
   "display_name": "Python 3",
   "language": "python",
   "name": "python3"
  },
  "language_info": {
   "codemirror_mode": {
    "name": "ipython",
    "version": 3
   },
   "file_extension": ".py",
   "mimetype": "text/x-python",
   "name": "python",
   "nbconvert_exporter": "python",
   "pygments_lexer": "ipython3",
   "version": "3.6.4"
  },
  "varInspector": {
   "cols": {
    "lenName": 16,
    "lenType": 16,
    "lenVar": 40
   },
   "kernels_config": {
    "python": {
     "delete_cmd_postfix": "",
     "delete_cmd_prefix": "del ",
     "library": "var_list.py",
     "varRefreshCmd": "print(var_dic_list())"
    },
    "r": {
     "delete_cmd_postfix": ") ",
     "delete_cmd_prefix": "rm(",
     "library": "var_list.r",
     "varRefreshCmd": "cat(var_dic_list()) "
    }
   },
   "position": {
    "height": "581px",
    "left": "1528px",
    "right": "20px",
    "top": "136px",
    "width": "358px"
   },
   "types_to_exclude": [
    "module",
    "function",
    "builtin_function_or_method",
    "instance",
    "_Feature"
   ],
   "window_display": false
  }
 },
 "nbformat": 4,
 "nbformat_minor": 2
}
